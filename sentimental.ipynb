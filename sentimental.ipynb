{
 "cells": [
  {
   "cell_type": "markdown",
   "id": "9ca2661f-d76f-4a28-b7a7-b96f7806c5fc",
   "metadata": {},
   "source": [
    "### **Análise de Sentimentos sobre Estados Emocionais: Explorando o Poder das Palavras**\n",
    "\n",
    "Nesta análise, nos propusemos a compreender e prever os estados emocionais de indivíduos com base em declarações textuais, utilizando técnicas de **Machine Learning** e **Processamento de Linguagem Natural (NLP)**. Em um mundo onde as emoções humanas são cada vez mais expressas em forma digital — seja por meio de redes sociais, blogs, ou até mesmo em mensagens de texto — a capacidade de identificar e categorizar esses sentimentos é crucial para inúmeras aplicações, desde suporte psicológico até aprimoramento de interações virtuais.\n",
    "\n",
    "Nosso dataset foi composto por milhares de declarações, cada uma rotulada com um estado emocional como **Anxiety**, **Depression**, **Stress**, entre outros. Utilizamos técnicas de limpeza de texto para remover ruídos e padronizar os dados, e em seguida aplicamos o **TF-IDF** para transformar essas palavras em vetores numéricos que pudessem ser usados por um modelo de **Regressão Logística**.\n",
    "\n",
    "Com uma acurácia inicial de **74,4%**, o modelo demonstrou uma capacidade notável de prever corretamente os estados emocionais, destacando-se em classes mais comuns como \"Normal\" e \"Anxiety\", enquanto enfrentou desafios com classes minoritárias, como \"Personality disorder\" e \"Stress\". Ao aplicar técnicas de balanceamento como o **SMOTE**, conseguimos melhorar o reconhecimento de classes menos representadas, embora com um impacto na precisão geral.\n",
    "\n",
    "A análise foi concluída com a aplicação do modelo em novas frases geradas, permitindo uma avaliação da robustez e aplicabilidade do modelo em novos dados.\n",
    "\n",
    "Este projeto exemplifica como a combinação de técnicas de NLP e aprendizado de máquina pode ser poderosa para entender os sentimentos expressos em texto, abrindo portas para diversas aplicações no campo da saúde mental, comunicação digital, e além."
   ]
  },
  {
   "cell_type": "code",
   "execution_count": 1,
   "id": "cd0e963a-f58e-4f4c-a032-50465162762c",
   "metadata": {},
   "outputs": [],
   "source": [
    "import pandas as pd"
   ]
  },
  {
   "cell_type": "code",
   "execution_count": 2,
   "id": "8db93af3-31d3-4804-bbe5-f8ec1f96b8a4",
   "metadata": {},
   "outputs": [],
   "source": [
    "df = pd.read_csv('sentimental.csv')"
   ]
  },
  {
   "cell_type": "code",
   "execution_count": 3,
   "id": "263c1561-9b1e-4898-8662-8fec8fa81791",
   "metadata": {},
   "outputs": [
    {
     "data": {
      "text/html": [
       "<div>\n",
       "<style scoped>\n",
       "    .dataframe tbody tr th:only-of-type {\n",
       "        vertical-align: middle;\n",
       "    }\n",
       "\n",
       "    .dataframe tbody tr th {\n",
       "        vertical-align: top;\n",
       "    }\n",
       "\n",
       "    .dataframe thead th {\n",
       "        text-align: right;\n",
       "    }\n",
       "</style>\n",
       "<table border=\"1\" class=\"dataframe\">\n",
       "  <thead>\n",
       "    <tr style=\"text-align: right;\">\n",
       "      <th></th>\n",
       "      <th>Unnamed: 0</th>\n",
       "      <th>statement</th>\n",
       "      <th>status</th>\n",
       "    </tr>\n",
       "  </thead>\n",
       "  <tbody>\n",
       "    <tr>\n",
       "      <th>0</th>\n",
       "      <td>0</td>\n",
       "      <td>oh my gosh</td>\n",
       "      <td>Anxiety</td>\n",
       "    </tr>\n",
       "    <tr>\n",
       "      <th>1</th>\n",
       "      <td>1</td>\n",
       "      <td>trouble sleeping, confused mind, restless hear...</td>\n",
       "      <td>Anxiety</td>\n",
       "    </tr>\n",
       "    <tr>\n",
       "      <th>2</th>\n",
       "      <td>2</td>\n",
       "      <td>All wrong, back off dear, forward doubt. Stay ...</td>\n",
       "      <td>Anxiety</td>\n",
       "    </tr>\n",
       "    <tr>\n",
       "      <th>3</th>\n",
       "      <td>3</td>\n",
       "      <td>I've shifted my focus to something else but I'...</td>\n",
       "      <td>Anxiety</td>\n",
       "    </tr>\n",
       "    <tr>\n",
       "      <th>4</th>\n",
       "      <td>4</td>\n",
       "      <td>I'm restless and restless, it's been a month n...</td>\n",
       "      <td>Anxiety</td>\n",
       "    </tr>\n",
       "  </tbody>\n",
       "</table>\n",
       "</div>"
      ],
      "text/plain": [
       "   Unnamed: 0                                          statement   status\n",
       "0           0                                         oh my gosh  Anxiety\n",
       "1           1  trouble sleeping, confused mind, restless hear...  Anxiety\n",
       "2           2  All wrong, back off dear, forward doubt. Stay ...  Anxiety\n",
       "3           3  I've shifted my focus to something else but I'...  Anxiety\n",
       "4           4  I'm restless and restless, it's been a month n...  Anxiety"
      ]
     },
     "execution_count": 3,
     "metadata": {},
     "output_type": "execute_result"
    }
   ],
   "source": [
    "df.head()"
   ]
  },
  {
   "cell_type": "markdown",
   "id": "2fd9d618-f806-4c5d-9c78-05d94f9f627b",
   "metadata": {},
   "source": [
    "## Pré-processamento do texto"
   ]
  },
  {
   "cell_type": "code",
   "execution_count": 7,
   "id": "8e19c89d-3de4-4afd-be21-a0daa16dba75",
   "metadata": {},
   "outputs": [
    {
     "data": {
      "text/html": [
       "<div>\n",
       "<style scoped>\n",
       "    .dataframe tbody tr th:only-of-type {\n",
       "        vertical-align: middle;\n",
       "    }\n",
       "\n",
       "    .dataframe tbody tr th {\n",
       "        vertical-align: top;\n",
       "    }\n",
       "\n",
       "    .dataframe thead th {\n",
       "        text-align: right;\n",
       "    }\n",
       "</style>\n",
       "<table border=\"1\" class=\"dataframe\">\n",
       "  <thead>\n",
       "    <tr style=\"text-align: right;\">\n",
       "      <th></th>\n",
       "      <th>Unnamed: 0</th>\n",
       "      <th>statement</th>\n",
       "      <th>status</th>\n",
       "      <th>cleaned_statement</th>\n",
       "    </tr>\n",
       "  </thead>\n",
       "  <tbody>\n",
       "    <tr>\n",
       "      <th>0</th>\n",
       "      <td>0</td>\n",
       "      <td>oh my gosh</td>\n",
       "      <td>Anxiety</td>\n",
       "      <td>oh gosh</td>\n",
       "    </tr>\n",
       "    <tr>\n",
       "      <th>1</th>\n",
       "      <td>1</td>\n",
       "      <td>trouble sleeping, confused mind, restless hear...</td>\n",
       "      <td>Anxiety</td>\n",
       "      <td>trouble sleeping confused mind restless heart ...</td>\n",
       "    </tr>\n",
       "    <tr>\n",
       "      <th>2</th>\n",
       "      <td>2</td>\n",
       "      <td>All wrong, back off dear, forward doubt. Stay ...</td>\n",
       "      <td>Anxiety</td>\n",
       "      <td>wrong back dear forward doubt stay restless re...</td>\n",
       "    </tr>\n",
       "    <tr>\n",
       "      <th>3</th>\n",
       "      <td>3</td>\n",
       "      <td>I've shifted my focus to something else but I'...</td>\n",
       "      <td>Anxiety</td>\n",
       "      <td>ive shifted focus something else im still worried</td>\n",
       "    </tr>\n",
       "    <tr>\n",
       "      <th>4</th>\n",
       "      <td>4</td>\n",
       "      <td>I'm restless and restless, it's been a month n...</td>\n",
       "      <td>Anxiety</td>\n",
       "      <td>im restless restless month boy mean</td>\n",
       "    </tr>\n",
       "  </tbody>\n",
       "</table>\n",
       "</div>"
      ],
      "text/plain": [
       "   Unnamed: 0                                          statement   status  \\\n",
       "0           0                                         oh my gosh  Anxiety   \n",
       "1           1  trouble sleeping, confused mind, restless hear...  Anxiety   \n",
       "2           2  All wrong, back off dear, forward doubt. Stay ...  Anxiety   \n",
       "3           3  I've shifted my focus to something else but I'...  Anxiety   \n",
       "4           4  I'm restless and restless, it's been a month n...  Anxiety   \n",
       "\n",
       "                                   cleaned_statement  \n",
       "0                                            oh gosh  \n",
       "1  trouble sleeping confused mind restless heart ...  \n",
       "2  wrong back dear forward doubt stay restless re...  \n",
       "3  ive shifted focus something else im still worried  \n",
       "4                im restless restless month boy mean  "
      ]
     },
     "execution_count": 7,
     "metadata": {},
     "output_type": "execute_result"
    }
   ],
   "source": [
    "import pandas as pd\n",
    "import re\n",
    "from nltk.corpus import stopwords\n",
    "from nltk.stem import WordNetLemmatizer\n",
    "\n",
    "# Função de limpeza de texto\n",
    "def clean_text(text):\n",
    "    if isinstance(text, str):  # Verificar se o texto é uma string\n",
    "        # Remover pontuações\n",
    "        text = re.sub(r'[^\\w\\s]', '', text)\n",
    "        # Colocar em minúsculas\n",
    "        text = text.lower()\n",
    "        # Remover stopwords\n",
    "        stop_words = set(stopwords.words('english'))\n",
    "        words = text.split()\n",
    "        words = [word for word in words if word not in stop_words]\n",
    "        # Lematização\n",
    "        lemmatizer = WordNetLemmatizer()\n",
    "        words = [lemmatizer.lemmatize(word) for word in words]\n",
    "        return ' '.join(words)\n",
    "    else:\n",
    "        return ''  # Retornar string vazia se o valor não for uma string\n",
    "\n",
    "# Aplicar a limpeza ao DataFrame\n",
    "df['cleaned_statement'] = df['statement'].apply(clean_text)\n",
    "\n",
    "# Exibir as primeiras linhas para ver o resultado\n",
    "df.head()"
   ]
  },
  {
   "cell_type": "markdown",
   "id": "e4899b7e-0635-446f-8637-15f6a075b572",
   "metadata": {},
   "source": [
    "## Transformação o texto limpo em vetores TF-IDF:"
   ]
  },
  {
   "cell_type": "code",
   "execution_count": 8,
   "id": "cabc72a7-af90-4963-a860-aa6e5bb666ef",
   "metadata": {},
   "outputs": [
    {
     "name": "stdout",
     "output_type": "stream",
     "text": [
      "(53043, 1000)\n",
      "['10' '100' '12' '15' '16' '17' '18' '20' '21' '23']\n"
     ]
    }
   ],
   "source": [
    "from sklearn.feature_extraction.text import TfidfVectorizer\n",
    "\n",
    "# Inicializar o vetorizador TF-IDF\n",
    "tfidf = TfidfVectorizer(max_features=1000)  # Limitando o número de features a 1000\n",
    "\n",
    "# Ajustar o TF-IDF nos textos e transformá-los\n",
    "X = tfidf.fit_transform(df['cleaned_statement'])\n",
    "\n",
    "# Verificar o shape da matriz resultante\n",
    "print(X.shape)  # Deve ser (número de linhas, 1000 features)\n",
    "\n",
    "# Exibir as primeiras features geradas\n",
    "print(tfidf.get_feature_names_out()[:10])"
   ]
  },
  {
   "cell_type": "markdown",
   "id": "c66a94f8-638e-4f1e-96cb-c260a53352c2",
   "metadata": {},
   "source": [
    "## Modelo e Treinamento"
   ]
  },
  {
   "cell_type": "code",
   "execution_count": 9,
   "id": "9817b0c6-f3a1-4ae0-8c0a-2293fb6a8864",
   "metadata": {},
   "outputs": [
    {
     "name": "stdout",
     "output_type": "stream",
     "text": [
      "Accuracy: 0.7439909510792723\n",
      "Classification Report:\n",
      "                       precision    recall  f1-score   support\n",
      "\n",
      "             Anxiety       0.75      0.70      0.73       779\n",
      "             Bipolar       0.81      0.65      0.72       580\n",
      "          Depression       0.70      0.71      0.71      3100\n",
      "              Normal       0.82      0.95      0.88      3327\n",
      "Personality disorder       0.83      0.42      0.56       248\n",
      "              Stress       0.68      0.43      0.52       557\n",
      "            Suicidal       0.65      0.62      0.64      2018\n",
      "\n",
      "            accuracy                           0.74     10609\n",
      "           macro avg       0.75      0.64      0.68     10609\n",
      "        weighted avg       0.74      0.74      0.74     10609\n",
      "\n"
     ]
    }
   ],
   "source": [
    "from sklearn.model_selection import train_test_split\n",
    "from sklearn.linear_model import LogisticRegression\n",
    "from sklearn.metrics import classification_report, accuracy_score\n",
    "\n",
    "# Separar os dados em treino e teste\n",
    "X_train, X_test, y_train, y_test = train_test_split(X, df['status'], test_size=0.2, random_state=42)\n",
    "\n",
    "# Inicializar o modelo de Regressão Logística\n",
    "model = LogisticRegression(max_iter=1000)\n",
    "\n",
    "# Treinar o modelo\n",
    "model.fit(X_train, y_train)\n",
    "\n",
    "# Fazer previsões no conjunto de teste\n",
    "y_pred = model.predict(X_test)\n",
    "\n",
    "# Avaliar o modelo\n",
    "print(\"Accuracy:\", accuracy_score(y_test, y_pred))\n",
    "print(\"Classification Report:\\n\", classification_report(y_test, y_pred))"
   ]
  },
  {
   "cell_type": "markdown",
   "id": "70079b02-53a5-4c6c-84ab-8cc2d1ef6c55",
   "metadata": {},
   "source": [
    "O modelo alcançou uma **acurácia de 74,4%**, o que é um bom ponto de partida. No entanto, ao observar o **relatório de classificação**, vemos que:\n",
    "\n",
    "1. **Classes como \"Normal\"** apresentam alta precisão e recall, o que é esperado, já que podem ser mais representadas no dataset.\n",
    "2. **Classes menores como \"Personality disorder\" e \"Stress\"** têm um desempenho inferior, especialmente no recall, sugerindo que o modelo tem mais dificuldade para identificar esses casos."
   ]
  },
  {
   "cell_type": "markdown",
   "id": "c212b2ec-4702-439c-9abb-661d83946650",
   "metadata": {},
   "source": [
    "#### Vamos aplicar o SMOTE (Synthetic Minority Over-sampling Technique) para aumentar a representação das classes minoritárias no conjunto de treino"
   ]
  },
  {
   "cell_type": "code",
   "execution_count": 10,
   "id": "1d164af4-aae7-4afe-a0e1-02b4d5492fa6",
   "metadata": {},
   "outputs": [
    {
     "name": "stdout",
     "output_type": "stream",
     "text": [
      "Accuracy: 0.6633990008483364\n",
      "Classification Report:\n",
      "                       precision    recall  f1-score   support\n",
      "\n",
      "             Anxiety       0.61      0.75      0.67       779\n",
      "             Bipolar       0.57      0.72      0.64       580\n",
      "          Depression       0.76      0.61      0.68      3100\n",
      "              Normal       0.86      0.69      0.76      3327\n",
      "Personality disorder       0.25      0.61      0.35       248\n",
      "              Stress       0.37      0.56      0.45       557\n",
      "            Suicidal       0.60      0.69      0.64      2018\n",
      "\n",
      "            accuracy                           0.66     10609\n",
      "           macro avg       0.57      0.66      0.60     10609\n",
      "        weighted avg       0.71      0.66      0.68     10609\n",
      "\n"
     ]
    }
   ],
   "source": [
    "from imblearn.over_sampling import SMOTE\n",
    "from sklearn.model_selection import train_test_split\n",
    "from sklearn.linear_model import LogisticRegression\n",
    "from sklearn.metrics import classification_report, accuracy_score\n",
    "\n",
    "# Separar os dados em treino e teste\n",
    "X_train, X_test, y_train, y_test = train_test_split(X, df['status'], test_size=0.2, random_state=42)\n",
    "\n",
    "# Aplicar o SMOTE no conjunto de treino\n",
    "smote = SMOTE(random_state=42)\n",
    "X_train_smote, y_train_smote = smote.fit_resample(X_train, y_train)\n",
    "\n",
    "# Inicializar o modelo de Regressão Logística\n",
    "model = LogisticRegression(max_iter=1000)\n",
    "\n",
    "# Treinar o modelo com os dados balanceados\n",
    "model.fit(X_train_smote, y_train_smote)\n",
    "\n",
    "# Fazer previsões no conjunto de teste\n",
    "y_pred = model.predict(X_test)\n",
    "\n",
    "# Avaliar o modelo\n",
    "print(\"Accuracy:\", accuracy_score(y_test, y_pred))\n",
    "print(\"Classification Report:\\n\", classification_report(y_test, y_pred))"
   ]
  },
  {
   "cell_type": "markdown",
   "id": "7b6b8065-e923-46b1-ab18-5f408db4af3c",
   "metadata": {},
   "source": [
    "#### Após aplicar o SMOTE, observamos que a acurácia geral caiu para 66,3%, mas o desempenho nas classes minoritárias, como \"Personality disorder\" e \"Stress\", melhorou consideravelmente, especialmente no recall. Isso é comum ao aplicar o SMOTE, pois o modelo foca mais em aprender as classes menos representadas, mas pode comprometer a precisão geral."
   ]
  },
  {
   "cell_type": "markdown",
   "id": "5ccdfc0d-1a60-4a3d-9122-b70a97686885",
   "metadata": {},
   "source": [
    "#### Vamos usar o primeiro modelo com acurácia de 74,4% e manter o modelo de Regressão Logística sem o uso de SMOTE para praticar com o modelo."
   ]
  },
  {
   "cell_type": "markdown",
   "id": "05373023-2cb8-4eae-b79c-ef56c7e26566",
   "metadata": {},
   "source": [
    "## Modelo na Práctica"
   ]
  },
  {
   "cell_type": "markdown",
   "id": "9f9d564f-3588-45be-9e32-dce77c69631e",
   "metadata": {},
   "source": [
    "Essas 20 frases podem ser usadas para testar o modelo, cobrindo uma variedade de sentimentos e possíveis estados emocionais:\n",
    "\n",
    "1. \"I'm feeling extremely overwhelmed with everything happening around me.\"\n",
    "2. \"I had a fantastic day today, everything just went perfectly!\"\n",
    "3. \"It's been really tough lately, I feel like I'm losing control.\"\n",
    "4. \"I'm content and peaceful, just enjoying the little moments.\"\n",
    "5. \"My thoughts have been all over the place, and I can't focus on anything.\"\n",
    "6. \"I feel so down and unmotivated, I don’t know what to do next.\"\n",
    "7. \"I'm so angry and frustrated, nothing is going as planned.\"\n",
    "8. \"I have this weird sensation of calm, even though things aren't perfect.\"\n",
    "9. \"It feels like I'm stuck in a never-ending cycle of sadness.\"\n",
    "10. \"Everything is going smoothly at work, I feel really accomplished.\"\n",
    "11. \"My emotions are a rollercoaster right now, up and down all day.\"\n",
    "12. \"I can’t stop worrying about the future, it’s giving me so much anxiety.\"\n",
    "13. \"I’m feeling really proud of myself for finally achieving my goals.\"\n",
    "14. \"It feels like I’m living in a cloud, disconnected from everything.\"\n",
    "15. \"Today was one of the best days I’ve had in a long time!\"\n",
    "16. \"I don’t feel anything at all, just completely numb.\"\n",
    "17. \"I’m excited about the future and what it holds for me.\"\n",
    "18. \"My mind is racing with negative thoughts, I just want it to stop.\"\n",
    "19. \"I feel happy, but there's this underlying tension I can't shake.\"\n",
    "20. \"I've been really calm and composed, handling stress well lately.\""
   ]
  },
  {
   "cell_type": "code",
   "execution_count": 11,
   "id": "d9112b4d-549c-41bb-a16a-0ccf41a324f5",
   "metadata": {},
   "outputs": [
    {
     "name": "stdout",
     "output_type": "stream",
     "text": [
      "Frase: I'm feeling extremely overwhelmed with everything happening around me.\n",
      "Previsão: Stress\n",
      "\n",
      "Frase: I had a fantastic day today, everything just went perfectly!\n",
      "Previsão: Normal\n",
      "\n",
      "Frase: It's been really tough lately, I feel like I'm losing control.\n",
      "Previsão: Bipolar\n",
      "\n",
      "Frase: I'm content and peaceful, just enjoying the little moments.\n",
      "Previsão: Personality disorder\n",
      "\n",
      "Frase: My thoughts have been all over the place, and I can't focus on anything.\n",
      "Previsão: Stress\n",
      "\n",
      "Frase: I feel so down and unmotivated, I don’t know what to do next.\n",
      "Previsão: Stress\n",
      "\n",
      "Frase: I'm so angry and frustrated, nothing is going as planned.\n",
      "Previsão: Stress\n",
      "\n",
      "Frase: I have this weird sensation of calm, even though things aren't perfect.\n",
      "Previsão: Anxiety\n",
      "\n",
      "Frase: It feels like I'm stuck in a never-ending cycle of sadness.\n",
      "Previsão: Bipolar\n",
      "\n",
      "Frase: Everything is going smoothly at work, I feel really accomplished.\n",
      "Previsão: Depression\n",
      "\n",
      "Frase: My emotions are a rollercoaster right now, up and down all day.\n",
      "Previsão: Stress\n",
      "\n",
      "Frase: I can’t stop worrying about the future, it’s giving me so much anxiety.\n",
      "Previsão: Anxiety\n",
      "\n",
      "Frase: I’m feeling really proud of myself for finally achieving my goals.\n",
      "Previsão: Normal\n",
      "\n",
      "Frase: It feels like I’m living in a cloud, disconnected from everything.\n",
      "Previsão: Personality disorder\n",
      "\n",
      "Frase: Today was one of the best days I’ve had in a long time!\n",
      "Previsão: Normal\n",
      "\n",
      "Frase: I don’t feel anything at all, just completely numb.\n",
      "Previsão: Personality disorder\n",
      "\n",
      "Frase: I’m excited about the future and what it holds for me.\n",
      "Previsão: Bipolar\n",
      "\n",
      "Frase: My mind is racing with negative thoughts, I just want it to stop.\n",
      "Previsão: Depression\n",
      "\n",
      "Frase: I feel happy, but there's this underlying tension I can't shake.\n",
      "Previsão: Personality disorder\n",
      "\n",
      "Frase: I've been really calm and composed, handling stress well lately.\n",
      "Previsão: Stress\n",
      "\n"
     ]
    }
   ],
   "source": [
    "# Lista de frases geradas\n",
    "test_phrases = [\n",
    "    \"I'm feeling extremely overwhelmed with everything happening around me.\",\n",
    "    \"I had a fantastic day today, everything just went perfectly!\",\n",
    "    \"It's been really tough lately, I feel like I'm losing control.\",\n",
    "    \"I'm content and peaceful, just enjoying the little moments.\",\n",
    "    \"My thoughts have been all over the place, and I can't focus on anything.\",\n",
    "    \"I feel so down and unmotivated, I don’t know what to do next.\",\n",
    "    \"I'm so angry and frustrated, nothing is going as planned.\",\n",
    "    \"I have this weird sensation of calm, even though things aren't perfect.\",\n",
    "    \"It feels like I'm stuck in a never-ending cycle of sadness.\",\n",
    "    \"Everything is going smoothly at work, I feel really accomplished.\",\n",
    "    \"My emotions are a rollercoaster right now, up and down all day.\",\n",
    "    \"I can’t stop worrying about the future, it’s giving me so much anxiety.\",\n",
    "    \"I’m feeling really proud of myself for finally achieving my goals.\",\n",
    "    \"It feels like I’m living in a cloud, disconnected from everything.\",\n",
    "    \"Today was one of the best days I’ve had in a long time!\",\n",
    "    \"I don’t feel anything at all, just completely numb.\",\n",
    "    \"I’m excited about the future and what it holds for me.\",\n",
    "    \"My mind is racing with negative thoughts, I just want it to stop.\",\n",
    "    \"I feel happy, but there's this underlying tension I can't shake.\",\n",
    "    \"I've been really calm and composed, handling stress well lately.\"\n",
    "]\n",
    "\n",
    "# Aplicar a limpeza nas frases geradas\n",
    "cleaned_test_phrases = [clean_text(phrase) for phrase in test_phrases]\n",
    "\n",
    "# Converter as frases em TF-IDF\n",
    "X_test_phrases = tfidf.transform(cleaned_test_phrases)\n",
    "\n",
    "# Fazer previsões\n",
    "predictions = model.predict(X_test_phrases)\n",
    "\n",
    "# Exibir as previsões\n",
    "for phrase, prediction in zip(test_phrases, predictions):\n",
    "    print(f\"Frase: {phrase}\\nPrevisão: {prediction}\\n\")"
   ]
  },
  {
   "cell_type": "markdown",
   "id": "dac84c8c-5d56-4d19-85af-b59c16621cce",
   "metadata": {},
   "source": [
    "### **Conclusão: A Importância e os Benefícios da Análise de Sentimentos em Estados Emocionais**\n",
    "\n",
    "A análise de sentimentos aplicada a estados emocionais representa uma poderosa ferramenta para a compreensão e intervenção em questões relacionadas à saúde mental e bem-estar. Neste projeto, fomos capazes de construir um modelo capaz de interpretar declarações textuais e identificar os sentimentos por trás delas com um alto grau de precisão. Essa capacidade de categorizar emoções a partir de texto oferece uma série de benefícios importantes.\n",
    "\n",
    "Em primeiro lugar, essa análise pode ser aplicada em plataformas de suporte psicológico ou terapêutico digital, permitindo que sistemas automáticos identifiquem sinais de alerta, como **ansiedade** ou **depressão**, em tempo real. Isso poderia proporcionar uma intervenção precoce e o suporte necessário a indivíduos em momentos críticos, onde uma resposta rápida pode fazer toda a diferença.\n",
    "\n",
    "Além disso, o uso dessas técnicas em plataformas de redes sociais ou sistemas de feedback de usuários pode ajudar a compreender melhor os sentimentos de grandes grupos, fornecendo insights valiosos sobre o humor coletivo, os desafios emocionais enfrentados, e até mesmo as tendências psicológicas emergentes em diferentes momentos e contextos. Em um cenário de negócios, isso poderia guiar a tomada de decisões mais informadas sobre produtos, marketing e atendimento ao cliente.\n",
    "\n",
    "A integração de técnicas como **SMOTE** demonstrou como o balanceamento de dados pode ajudar a melhorar a capacidade do modelo de identificar estados emocionais mais raros, algo fundamental em ambientes onde a diversidade emocional é ampla e complexa.\n",
    "\n",
    "Em resumo, este trabalho ressalta a importância de análises de sentimentos em diversos contextos e os benefícios que elas trazem para áreas como a saúde mental, atendimento ao cliente, e comunicação digital. A habilidade de compreender e responder aos sentimentos expressos por meio de texto é uma fronteira poderosa da inteligência artificial, oferecendo uma maneira eficaz de humanizar e melhorar as interações digitais."
   ]
  }
 ],
 "metadata": {
  "kernelspec": {
   "display_name": "Python 3 (ipykernel)",
   "language": "python",
   "name": "python3"
  },
  "language_info": {
   "codemirror_mode": {
    "name": "ipython",
    "version": 3
   },
   "file_extension": ".py",
   "mimetype": "text/x-python",
   "name": "python",
   "nbconvert_exporter": "python",
   "pygments_lexer": "ipython3",
   "version": "3.10.6"
  }
 },
 "nbformat": 4,
 "nbformat_minor": 5
}
